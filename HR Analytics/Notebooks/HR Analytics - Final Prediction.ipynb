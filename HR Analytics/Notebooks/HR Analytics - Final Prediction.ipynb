{
 "cells": [
  {
   "cell_type": "markdown",
   "metadata": {
    "id": "reA7PV3gqvMM"
   },
   "source": [
    "# Setup"
   ]
  },
  {
   "cell_type": "code",
   "execution_count": 3,
   "metadata": {
    "colab": {
     "base_uri": "https://localhost:8080/",
     "height": 34
    },
    "executionInfo": {
     "elapsed": 1784,
     "status": "ok",
     "timestamp": 1603694651270,
     "user": {
      "displayName": "SAHIL MANKAD",
      "photoUrl": "",
      "userId": "01524592176474520459"
     },
     "user_tz": -330
    },
    "id": "J37kXHYxqy1V",
    "outputId": "bd9ff3e4-1d7e-41aa-a4a4-40cc12863d50"
   },
   "outputs": [
    {
     "name": "stdout",
     "output_type": "stream",
     "text": [
      "Drive already mounted at /content/drive/; to attempt to forcibly remount, call drive.mount(\"/content/drive/\", force_remount=True).\n"
     ]
    }
   ],
   "source": [
    "import os\n",
    "path = input(\"Enter the path:\")\n",
    "from google.colab import drive\n",
    "drive.mount('/content/drive/')\n",
    "os.chdir(path)"
   ]
  },
  {
   "cell_type": "code",
   "execution_count": 4,
   "metadata": {
    "executionInfo": {
     "elapsed": 2208,
     "status": "ok",
     "timestamp": 1603694651777,
     "user": {
      "displayName": "SAHIL MANKAD",
      "photoUrl": "",
      "userId": "01524592176474520459"
     },
     "user_tz": -330
    },
    "id": "6Iu9DHjpgeVg"
   },
   "outputs": [],
   "source": [
    "import numpy as np\n",
    "import pandas as pd\n",
    "from sklearn.preprocessing import MinMaxScaler\n",
    "import matplotlib.pyplot as plt\n",
    "import seaborn as sns\n",
    "sns.set()\n",
    "sns.set(style=\"darkgrid\")\n",
    "\n",
    "import warnings\n",
    "warnings.filterwarnings('ignore')\n",
    "import pickle\n",
    "import os"
   ]
  },
  {
   "cell_type": "code",
   "execution_count": 5,
   "metadata": {
    "executionInfo": {
     "elapsed": 3369,
     "status": "ok",
     "timestamp": 1603694652946,
     "user": {
      "displayName": "SAHIL MANKAD",
      "photoUrl": "",
      "userId": "01524592176474520459"
     },
     "user_tz": -330
    },
    "id": "ETQQGVulq8c5"
   },
   "outputs": [],
   "source": [
    "test = pd.read_csv(\"test.csv\")"
   ]
  },
  {
   "cell_type": "code",
   "execution_count": 6,
   "metadata": {
    "colab": {
     "base_uri": "https://localhost:8080/",
     "height": 34
    },
    "executionInfo": {
     "elapsed": 3354,
     "status": "ok",
     "timestamp": 1603694652957,
     "user": {
      "displayName": "SAHIL MANKAD",
      "photoUrl": "",
      "userId": "01524592176474520459"
     },
     "user_tz": -330
    },
    "id": "zAzdMh9frLWl",
    "outputId": "a9162027-a0dc-4da0-b799-5eae5234ba5b"
   },
   "outputs": [
    {
     "data": {
      "text/plain": [
       "(23490, 13)"
      ]
     },
     "execution_count": 6,
     "metadata": {
      "tags": []
     },
     "output_type": "execute_result"
    }
   ],
   "source": [
    "test.shape"
   ]
  },
  {
   "cell_type": "code",
   "execution_count": 7,
   "metadata": {
    "colab": {
     "base_uri": "https://localhost:8080/",
     "height": 258
    },
    "executionInfo": {
     "elapsed": 3300,
     "status": "ok",
     "timestamp": 1603694652958,
     "user": {
      "displayName": "SAHIL MANKAD",
      "photoUrl": "",
      "userId": "01524592176474520459"
     },
     "user_tz": -330
    },
    "id": "7Ko5QvVarNbE",
    "outputId": "04048d8b-2511-4ed0-abfe-3447023d2461"
   },
   "outputs": [
    {
     "data": {
      "text/html": [
       "<div>\n",
       "<style scoped>\n",
       "    .dataframe tbody tr th:only-of-type {\n",
       "        vertical-align: middle;\n",
       "    }\n",
       "\n",
       "    .dataframe tbody tr th {\n",
       "        vertical-align: top;\n",
       "    }\n",
       "\n",
       "    .dataframe thead th {\n",
       "        text-align: right;\n",
       "    }\n",
       "</style>\n",
       "<table border=\"1\" class=\"dataframe\">\n",
       "  <thead>\n",
       "    <tr style=\"text-align: right;\">\n",
       "      <th></th>\n",
       "      <th>employee_id</th>\n",
       "      <th>department</th>\n",
       "      <th>region</th>\n",
       "      <th>education</th>\n",
       "      <th>gender</th>\n",
       "      <th>recruitment_channel</th>\n",
       "      <th>no_of_trainings</th>\n",
       "      <th>age</th>\n",
       "      <th>previous_year_rating</th>\n",
       "      <th>length_of_service</th>\n",
       "      <th>KPIs_met &gt;80%</th>\n",
       "      <th>awards_won?</th>\n",
       "      <th>avg_training_score</th>\n",
       "    </tr>\n",
       "  </thead>\n",
       "  <tbody>\n",
       "    <tr>\n",
       "      <th>0</th>\n",
       "      <td>8724</td>\n",
       "      <td>Technology</td>\n",
       "      <td>region_26</td>\n",
       "      <td>Bachelor's</td>\n",
       "      <td>m</td>\n",
       "      <td>sourcing</td>\n",
       "      <td>1</td>\n",
       "      <td>24</td>\n",
       "      <td>NaN</td>\n",
       "      <td>1</td>\n",
       "      <td>1</td>\n",
       "      <td>0</td>\n",
       "      <td>77</td>\n",
       "    </tr>\n",
       "    <tr>\n",
       "      <th>1</th>\n",
       "      <td>74430</td>\n",
       "      <td>HR</td>\n",
       "      <td>region_4</td>\n",
       "      <td>Bachelor's</td>\n",
       "      <td>f</td>\n",
       "      <td>other</td>\n",
       "      <td>1</td>\n",
       "      <td>31</td>\n",
       "      <td>3.0</td>\n",
       "      <td>5</td>\n",
       "      <td>0</td>\n",
       "      <td>0</td>\n",
       "      <td>51</td>\n",
       "    </tr>\n",
       "    <tr>\n",
       "      <th>2</th>\n",
       "      <td>72255</td>\n",
       "      <td>Sales &amp; Marketing</td>\n",
       "      <td>region_13</td>\n",
       "      <td>Bachelor's</td>\n",
       "      <td>m</td>\n",
       "      <td>other</td>\n",
       "      <td>1</td>\n",
       "      <td>31</td>\n",
       "      <td>1.0</td>\n",
       "      <td>4</td>\n",
       "      <td>0</td>\n",
       "      <td>0</td>\n",
       "      <td>47</td>\n",
       "    </tr>\n",
       "    <tr>\n",
       "      <th>3</th>\n",
       "      <td>38562</td>\n",
       "      <td>Procurement</td>\n",
       "      <td>region_2</td>\n",
       "      <td>Bachelor's</td>\n",
       "      <td>f</td>\n",
       "      <td>other</td>\n",
       "      <td>3</td>\n",
       "      <td>31</td>\n",
       "      <td>2.0</td>\n",
       "      <td>9</td>\n",
       "      <td>0</td>\n",
       "      <td>0</td>\n",
       "      <td>65</td>\n",
       "    </tr>\n",
       "    <tr>\n",
       "      <th>4</th>\n",
       "      <td>64486</td>\n",
       "      <td>Finance</td>\n",
       "      <td>region_29</td>\n",
       "      <td>Bachelor's</td>\n",
       "      <td>m</td>\n",
       "      <td>sourcing</td>\n",
       "      <td>1</td>\n",
       "      <td>30</td>\n",
       "      <td>4.0</td>\n",
       "      <td>7</td>\n",
       "      <td>0</td>\n",
       "      <td>0</td>\n",
       "      <td>61</td>\n",
       "    </tr>\n",
       "  </tbody>\n",
       "</table>\n",
       "</div>"
      ],
      "text/plain": [
       "   employee_id         department  ... awards_won? avg_training_score\n",
       "0         8724         Technology  ...           0                 77\n",
       "1        74430                 HR  ...           0                 51\n",
       "2        72255  Sales & Marketing  ...           0                 47\n",
       "3        38562        Procurement  ...           0                 65\n",
       "4        64486            Finance  ...           0                 61\n",
       "\n",
       "[5 rows x 13 columns]"
      ]
     },
     "execution_count": 7,
     "metadata": {
      "tags": []
     },
     "output_type": "execute_result"
    }
   ],
   "source": [
    "test.head()"
   ]
  },
  {
   "cell_type": "markdown",
   "metadata": {
    "id": "D8IMsQG2wP__"
   },
   "source": [
    "# Checking for missing values"
   ]
  },
  {
   "cell_type": "code",
   "execution_count": 8,
   "metadata": {
    "colab": {
     "base_uri": "https://localhost:8080/",
     "height": 0
    },
    "executionInfo": {
     "elapsed": 3237,
     "status": "ok",
     "timestamp": 1603694652960,
     "user": {
      "displayName": "SAHIL MANKAD",
      "photoUrl": "",
      "userId": "01524592176474520459"
     },
     "user_tz": -330
    },
    "id": "SB_IHnfAwQ-K",
    "outputId": "4ed58dfd-4477-4150-89e8-c71d342af9f0"
   },
   "outputs": [
    {
     "data": {
      "text/plain": [
       "employee_id                0\n",
       "department                 0\n",
       "region                     0\n",
       "education               1034\n",
       "gender                     0\n",
       "recruitment_channel        0\n",
       "no_of_trainings            0\n",
       "age                        0\n",
       "previous_year_rating    1812\n",
       "length_of_service          0\n",
       "KPIs_met >80%              0\n",
       "awards_won?                0\n",
       "avg_training_score         0\n",
       "dtype: int64"
      ]
     },
     "execution_count": 8,
     "metadata": {
      "tags": []
     },
     "output_type": "execute_result"
    }
   ],
   "source": [
    "test.isnull().sum()"
   ]
  },
  {
   "cell_type": "code",
   "execution_count": 9,
   "metadata": {
    "colab": {
     "base_uri": "https://localhost:8080/",
     "height": 0
    },
    "executionInfo": {
     "elapsed": 3188,
     "status": "ok",
     "timestamp": 1603694652961,
     "user": {
      "displayName": "SAHIL MANKAD",
      "photoUrl": "",
      "userId": "01524592176474520459"
     },
     "user_tz": -330
    },
    "id": "wxwnXZ_YwhjF",
    "outputId": "5353a081-87e5-42e3-c191-5afa247bd072"
   },
   "outputs": [
    {
     "data": {
      "text/plain": [
       "employee_id             0.000000\n",
       "department              0.000000\n",
       "region                  0.000000\n",
       "education               4.401873\n",
       "gender                  0.000000\n",
       "recruitment_channel     0.000000\n",
       "no_of_trainings         0.000000\n",
       "age                     0.000000\n",
       "previous_year_rating    7.713921\n",
       "length_of_service       0.000000\n",
       "KPIs_met >80%           0.000000\n",
       "awards_won?             0.000000\n",
       "avg_training_score      0.000000\n",
       "dtype: float64"
      ]
     },
     "execution_count": 9,
     "metadata": {
      "tags": []
     },
     "output_type": "execute_result"
    }
   ],
   "source": [
    "# check % missing values\n",
    "test.isnull().sum()/test.shape[0] * 100"
   ]
  },
  {
   "cell_type": "markdown",
   "metadata": {
    "id": "5l9L6ob4wwmR"
   },
   "source": [
    "4.4% of values in education and 7.71% in previous_year_rating are missing. Which means we will have to impute these values, rather than deleting the columns. Let us fill these values with 0.0 for previous year ratings and 'other' for education "
   ]
  },
  {
   "cell_type": "code",
   "execution_count": 10,
   "metadata": {
    "executionInfo": {
     "elapsed": 3183,
     "status": "ok",
     "timestamp": 1603694652962,
     "user": {
      "displayName": "SAHIL MANKAD",
      "photoUrl": "",
      "userId": "01524592176474520459"
     },
     "user_tz": -330
    },
    "id": "wbyti3m8xOIb"
   },
   "outputs": [],
   "source": [
    "test['education'].fillna('null',inplace=True)\n",
    "test['previous_year_rating'].fillna(0.0,inplace=True) "
   ]
  },
  {
   "cell_type": "code",
   "execution_count": 11,
   "metadata": {
    "colab": {
     "base_uri": "https://localhost:8080/",
     "height": 0
    },
    "executionInfo": {
     "elapsed": 3145,
     "status": "ok",
     "timestamp": 1603694652964,
     "user": {
      "displayName": "SAHIL MANKAD",
      "photoUrl": "",
      "userId": "01524592176474520459"
     },
     "user_tz": -330
    },
    "id": "YBBGAYhoxTmh",
    "outputId": "94fad951-c2bb-4870-e71c-8fbd41d7a483"
   },
   "outputs": [
    {
     "data": {
      "text/plain": [
       "employee_id             0\n",
       "department              0\n",
       "region                  0\n",
       "education               0\n",
       "gender                  0\n",
       "recruitment_channel     0\n",
       "no_of_trainings         0\n",
       "age                     0\n",
       "previous_year_rating    0\n",
       "length_of_service       0\n",
       "KPIs_met >80%           0\n",
       "awards_won?             0\n",
       "avg_training_score      0\n",
       "dtype: int64"
      ]
     },
     "execution_count": 11,
     "metadata": {
      "tags": []
     },
     "output_type": "execute_result"
    }
   ],
   "source": [
    "test.isnull().sum()"
   ]
  },
  {
   "cell_type": "markdown",
   "metadata": {
    "id": "nmTYDYTt_oJU"
   },
   "source": [
    "# Feature Engineering"
   ]
  },
  {
   "cell_type": "code",
   "execution_count": 12,
   "metadata": {
    "colab": {
     "base_uri": "https://localhost:8080/",
     "height": 0
    },
    "executionInfo": {
     "elapsed": 3115,
     "status": "ok",
     "timestamp": 1603694652967,
     "user": {
      "displayName": "SAHIL MANKAD",
      "photoUrl": "",
      "userId": "01524592176474520459"
     },
     "user_tz": -330
    },
    "id": "sbazfpFH_rVA",
    "outputId": "073d9557-8571-4897-f6b2-2a26db715cf7"
   },
   "outputs": [
    {
     "name": "stdout",
     "output_type": "stream",
     "text": [
      "gender\n",
      "16596    16596\n",
      "6894      6894\n",
      "Name: gender_count, dtype: int64\n",
      "region\n",
      "5299    5299\n",
      "2739    2739\n",
      "1982    1982\n",
      "1167    1167\n",
      "1130    1130\n",
      "1011    1011\n",
      "844      844\n",
      "775      775\n",
      "710      710\n",
      "595      595\n",
      "590      590\n",
      "571      571\n",
      "269      538\n",
      "516      516\n",
      "433      433\n",
      "414      414\n",
      "410      410\n",
      "361      361\n",
      "350      350\n",
      "342      342\n",
      "337      337\n",
      "326      326\n",
      "298      298\n",
      "273      273\n",
      "238      238\n",
      "219      219\n",
      "215      215\n",
      "180      180\n",
      "179      179\n",
      "155      155\n",
      "147      147\n",
      "126      126\n",
      "20        20\n",
      "Name: region_count, dtype: int64\n",
      "department\n",
      "7315    7315\n",
      "4764    4764\n",
      "3020    3020\n",
      "3011    3011\n",
      "2319    2319\n",
      "1091    1091\n",
      "1085    1085\n",
      "445      445\n",
      "440      440\n",
      "Name: department_count, dtype: int64\n",
      "recruitment_channel\n",
      "13078    13078\n",
      "9961      9961\n",
      "451        451\n",
      "Name: recruitment_channel_count, dtype: int64\n"
     ]
    }
   ],
   "source": [
    "columns = ['gender','region','department','recruitment_channel']\n",
    "\n",
    "for column in columns:\n",
    "  d = {}\n",
    "  for value in test[column].unique():\n",
    "    d[value] = test.loc[test[column] == value][column].shape[0]\n",
    "\n",
    "  test[column+'_count'] = test[column].apply(lambda x:d[x])\n",
    "  print(column)\n",
    "  print(test[column+'_count'].value_counts())\n",
    "\n",
    "bins = [-1,2,5,7,10,test['length_of_service'].max()]\n",
    "labels = ['0-2','3-5','5-7','8-10','>10']\n",
    "test['length_of_service_binned'] = pd.cut(test['length_of_service'], bins,labels=labels)\n",
    "\n",
    "\n",
    "bins = [-1, 29, 39, 49,test['age'].max()]\n",
    "labels = ['<30','30-39','40-49','>=50']\n",
    "test['age_binned'] = pd.cut(test['age'], bins,labels=labels)"
   ]
  },
  {
   "cell_type": "code",
   "execution_count": 13,
   "metadata": {
    "executionInfo": {
     "elapsed": 3109,
     "status": "ok",
     "timestamp": 1603694652968,
     "user": {
      "displayName": "SAHIL MANKAD",
      "photoUrl": "",
      "userId": "01524592176474520459"
     },
     "user_tz": -330
    },
    "id": "m5E6ma_RBB89"
   },
   "outputs": [],
   "source": [
    "# Converting continuous variables to categorical\n",
    "def convert_to_categorical(df,col):\n",
    "  return df[col].apply(lambda x:str(x))"
   ]
  },
  {
   "cell_type": "code",
   "execution_count": 14,
   "metadata": {
    "executionInfo": {
     "elapsed": 3103,
     "status": "ok",
     "timestamp": 1603694652969,
     "user": {
      "displayName": "SAHIL MANKAD",
      "photoUrl": "",
      "userId": "01524592176474520459"
     },
     "user_tz": -330
    },
    "id": "OU1fYyiRBCxW"
   },
   "outputs": [],
   "source": [
    "test['KPIs_met >80%'] = convert_to_categorical(test,'KPIs_met >80%')\n",
    "test['awards_won?'] = convert_to_categorical(test,'awards_won?')\n",
    "#test['is_promoted'] = convert_to_categorical(test,'is_promoted')"
   ]
  },
  {
   "cell_type": "code",
   "execution_count": 15,
   "metadata": {
    "executionInfo": {
     "elapsed": 3094,
     "status": "ok",
     "timestamp": 1603694652970,
     "user": {
      "displayName": "SAHIL MANKAD",
      "photoUrl": "",
      "userId": "01524592176474520459"
     },
     "user_tz": -330
    },
    "id": "HBPtDZIaBIpC"
   },
   "outputs": [],
   "source": [
    "#cat_col: name of categorical variable, cont_col:name of continuous variable\n",
    "def cont_to_cat(df,cat_col,cont_col):\n",
    "  temp = []\n",
    "  no_rows = df.shape[0]\n",
    "  print(no_rows)\n",
    "  for i in range(0, no_rows):\n",
    "    if int(df[cont_col][i]) > 1:\n",
    "      temp.append(1)\n",
    "    else:\n",
    "      temp.append(0)\n",
    "  \n",
    "  # is_multiple_training_completed\n",
    "  df[cat_col] = pd.Series(temp).astype('object')\n",
    "  print(df[cat_col].value_counts())\n",
    "  return df"
   ]
  },
  {
   "cell_type": "code",
   "execution_count": 16,
   "metadata": {
    "colab": {
     "base_uri": "https://localhost:8080/",
     "height": 0
    },
    "executionInfo": {
     "elapsed": 3974,
     "status": "ok",
     "timestamp": 1603694653882,
     "user": {
      "displayName": "SAHIL MANKAD",
      "photoUrl": "",
      "userId": "01524592176474520459"
     },
     "user_tz": -330
    },
    "id": "FMVh2ghuRe3_",
    "outputId": "e6bfa15a-c034-4dfb-f5fc-906f91df710e"
   },
   "outputs": [
    {
     "name": "stdout",
     "output_type": "stream",
     "text": [
      "23490\n",
      "0    18928\n",
      "1     4562\n",
      "Name: is_multiple_training_completed, dtype: int64\n"
     ]
    }
   ],
   "source": [
    "test = cont_to_cat(test,'is_multiple_training_completed','no_of_trainings')"
   ]
  },
  {
   "cell_type": "code",
   "execution_count": 17,
   "metadata": {
    "colab": {
     "base_uri": "https://localhost:8080/",
     "height": 0
    },
    "executionInfo": {
     "elapsed": 3935,
     "status": "ok",
     "timestamp": 1603694653884,
     "user": {
      "displayName": "SAHIL MANKAD",
      "photoUrl": "",
      "userId": "01524592176474520459"
     },
     "user_tz": -330
    },
    "id": "aU-rzNWABjDH",
    "outputId": "1b57685f-19c3-4a75-d1b6-b312252c1dcd"
   },
   "outputs": [
    {
     "name": "stdout",
     "output_type": "stream",
     "text": [
      "23490\n",
      "1    13328\n",
      "0    10162\n",
      "Name: region_high_employees, dtype: int64\n",
      "1    0.56739\n",
      "0    0.43261\n",
      "Name: region_high_employees, dtype: float64\n"
     ]
    }
   ],
   "source": [
    "from pandas.api.types import is_numeric_dtype\n",
    "\n",
    "\n",
    "# For getting data types of dataframes\n",
    "def get_dtypes(df):\n",
    "  columns = df.columns\n",
    "  num_cols = []\n",
    "  cat_cols = []\n",
    "  for column in columns:\n",
    "    if (is_numeric_dtype(df[column])):\n",
    "      num_cols.append(column) \n",
    "    else:\n",
    "      cat_cols.append(column)\n",
    "\n",
    "  return num_cols,cat_cols\n",
    "\n",
    "num_cols, cat_cols = get_dtypes(test)\n",
    "# since is_promoted is a dependent variable and we will perform transformations on independent variables only, we remove it from cat_cols column and store it in target variable.\n",
    "\n",
    "high_freq = ['region_2','region_22','region_7','region_15','region_13','region_26']\n",
    "\n",
    "temp = []\n",
    "no_rows = test.shape[0]\n",
    "print(no_rows)\n",
    "for i in range(0, no_rows):\n",
    "  if test['region'][i] in high_freq:\n",
    "    temp.append(1)\n",
    "  else:\n",
    "    temp.append(0)\n",
    "\n",
    "\n",
    "test['region_high_employees'] = pd.Series(temp).astype('object')\n",
    "print(test['region_high_employees'].value_counts())\n",
    "print(test['region_high_employees'].value_counts(normalize=True))\n",
    "\n",
    "test.drop(['region'],axis=1,inplace=True)\n",
    "cat_cols.append('region_high_employees')\n",
    "cat_cols.remove('region')"
   ]
  },
  {
   "cell_type": "code",
   "execution_count": 18,
   "metadata": {
    "colab": {
     "base_uri": "https://localhost:8080/",
     "height": 0
    },
    "executionInfo": {
     "elapsed": 4376,
     "status": "ok",
     "timestamp": 1603694654354,
     "user": {
      "displayName": "SAHIL MANKAD",
      "photoUrl": "",
      "userId": "01524592176474520459"
     },
     "user_tz": -330
    },
    "id": "4PMHNWdHDYaO",
    "outputId": "d7aa6ab4-3d0e-495a-91e9-82f15b775f6f"
   },
   "outputs": [
    {
     "name": "stdout",
     "output_type": "stream",
     "text": [
      "2    15578\n",
      "3     6504\n",
      "0     1034\n",
      "1      374\n",
      "Name: education, dtype: int64\n"
     ]
    }
   ],
   "source": [
    "nominal = ['department','recruitment_channel','length_of_service_binned','age_binned','gender'] \n",
    "ordinal = ['education', 'KPIs_met >80%', 'awards_won?', 'is_multiple_testing_completed', 'region_high_employees']\n",
    "\n",
    "def one_hot_encoding(data,cat_feats):\n",
    "  one_hot = pd.get_dummies(data[cat_feats])\n",
    "  one_hot = one_hot.astype('object')\n",
    "  #print(one_hot.dtypes)\n",
    "  data.drop(cat_feats,axis=1,inplace=True)\n",
    "  data = pd.concat([data,one_hot],axis=1)\n",
    "  return data\n",
    "\n",
    "test = one_hot_encoding(test,nominal)\n",
    "\n",
    "from sklearn.preprocessing import LabelEncoder\n",
    "test['education'] = test['education'].map({'null':0,'Below Secondary':1,\"Bachelor's\":2,\"Master's & above\":3})\n",
    "print(test['education'].value_counts())\n",
    "\n",
    "for variable in test.columns:\n",
    "  if(test[variable].dtypes == \"object\"): \n",
    "    #print(variable)\n",
    "    test[variable] = test[variable].apply(lambda x:int(x))\n",
    "\n",
    "#Dropping gender_f variable.\n",
    "test.drop(['gender_f'],axis=1,inplace=True)"
   ]
  },
  {
   "cell_type": "code",
   "execution_count": 19,
   "metadata": {
    "colab": {
     "base_uri": "https://localhost:8080/",
     "height": 0
    },
    "executionInfo": {
     "elapsed": 9550,
     "status": "ok",
     "timestamp": 1603694659558,
     "user": {
      "displayName": "SAHIL MANKAD",
      "photoUrl": "",
      "userId": "01524592176474520459"
     },
     "user_tz": -330
    },
    "id": "BNURZ7_wEnTw",
    "outputId": "12eaf0d9-1ec0-45e0-aa96-28c7bf9625aa"
   },
   "outputs": [
    {
     "data": {
      "text/plain": [
       "<matplotlib.axes._subplots.AxesSubplot at 0x7f55dc440828>"
      ]
     },
     "execution_count": 19,
     "metadata": {
      "tags": []
     },
     "output_type": "execute_result"
    },
    {
     "data": {
      "image/png": "[encoded data removed]",
      "text/plain": [
       "<Figure size 864x432 with 4 Axes>"
      ]
     },
     "metadata": {
      "tags": []
     },
     "output_type": "display_data"
    },
    {
     "data": {
      "image/png": "[encoded data removed]",
      "text/plain": [
       "<Figure size 864x432 with 4 Axes>"
      ]
     },
     "metadata": {
      "tags": []
     },
     "output_type": "display_data"
    },
    {
     "data": {
      "image/png": "[encoded data removed]",
      "text/plain": [
       "<Figure size 864x432 with 4 Axes>"
      ]
     },
     "metadata": {
      "tags": []
     },
     "output_type": "display_data"
    }
   ],
   "source": [
    "test['previous_year_rating'] = test['previous_year_rating'].apply(lambda x:int(x))\n",
    "\n",
    "test['log_avg_training_score'] = pd.DataFrame(np.log(test['avg_training_score'] * 5+ 100))\n",
    "test['log_no_of_trainings'] = pd.DataFrame(np.log(test['no_of_trainings'] * 5 + 100))\n",
    "\n",
    "fig, axes = plt.subplots(nrows =2 , ncols=2, figsize=(12, 6))\n",
    "fig.tight_layout()\n",
    "ax1,ax2,ax3,ax4 = axes[0][0],axes[0][1],axes[1][0],axes[1][1]\n",
    "\n",
    "sns.distplot(test['avg_training_score'], kde = True, bins = 20,ax=ax1)\n",
    "\n",
    "fig, axes = plt.subplots(nrows =2 , ncols=2, figsize=(12, 6))\n",
    "fig.tight_layout()\n",
    "ax1,ax2,ax3,ax4 = axes[0][0],axes[0][1],axes[1][0],axes[1][1]\n",
    "\n",
    "sns.distplot(test['log_avg_training_score'],kde = True, bins = 20,ax=ax2)\n",
    "\n",
    "\n",
    "fig, axes = plt.subplots(nrows =2 , ncols=2, figsize=(12, 6))\n",
    "fig.tight_layout()\n",
    "ax1,ax2,ax3,ax4 = axes[0][0],axes[0][1],axes[1][0],axes[1][1]\n",
    "\n",
    "sns.distplot(test['no_of_trainings'], kde = True, bins = 20,ax=ax1)\n",
    "sns.distplot(test['log_no_of_trainings'],kde = True, bins = 20,ax=ax2)\n",
    "\n"
   ]
  },
  {
   "cell_type": "code",
   "execution_count": 20,
   "metadata": {
    "colab": {
     "base_uri": "https://localhost:8080/",
     "height": 0
    },
    "executionInfo": {
     "elapsed": 9522,
     "status": "ok",
     "timestamp": 1603694659567,
     "user": {
      "displayName": "SAHIL MANKAD",
      "photoUrl": "",
      "userId": "01524592176474520459"
     },
     "user_tz": -330
    },
    "id": "FHgb1kqGHqh7",
    "outputId": "8cf2d5f8-3923-4695-f64a-261b071c191d"
   },
   "outputs": [
    {
     "name": "stdout",
     "output_type": "stream",
     "text": [
      "['age', 'previous_year_rating', 'length_of_service', 'gender_count', 'region_count', 'department_count', 'recruitment_channel_count', 'log_no_of_trainings', 'log_avg_training_score']\n"
     ]
    }
   ],
   "source": [
    "\n",
    "to_add = ['log_no_of_trainings','log_avg_training_score']\n",
    "to_drop = ['no_of_trainings','avg_training_score','employee_id']\n",
    "test.drop(to_drop,axis=1,inplace=True)\n",
    "\n",
    "# changing num_cols values\n",
    "for col in to_drop:\n",
    "  num_cols.remove(col)\n",
    "\n",
    "for col in to_add:\n",
    "  num_cols.append(col)\n",
    "\n",
    "print(num_cols)\n"
   ]
  },
  {
   "cell_type": "code",
   "execution_count": 21,
   "metadata": {
    "executionInfo": {
     "elapsed": 9518,
     "status": "ok",
     "timestamp": 1603694659572,
     "user": {
      "displayName": "SAHIL MANKAD",
      "photoUrl": "",
      "userId": "01524592176474520459"
     },
     "user_tz": -330
    },
    "id": "1ui39HekmdfB"
   },
   "outputs": [],
   "source": [
    "#num_cols.remove('employee_id')\n",
    "#test.drop(['employee_id'],axis=1,inplace=True)\n",
    "test[num_cols] = (test[num_cols] - test[num_cols].min())/(test[num_cols].max()-test[num_cols].min())"
   ]
  },
  {
   "cell_type": "markdown",
   "metadata": {
    "id": "d1ZOzL5Vq0AW"
   },
   "source": [
    "# Loading models and parameters"
   ]
  },
  {
   "cell_type": "code",
   "execution_count": 22,
   "metadata": {
    "colab": {
     "base_uri": "https://localhost:8080/",
     "height": 428
    },
    "executionInfo": {
     "elapsed": 23315,
     "status": "ok",
     "timestamp": 1603694673402,
     "user": {
      "displayName": "SAHIL MANKAD",
      "photoUrl": "",
      "userId": "01524592176474520459"
     },
     "user_tz": -330
    },
    "id": "g9KsVa5YICIt",
    "outputId": "eb31a2f8-0735-44aa-a93e-cc5cf56d5946"
   },
   "outputs": [
    {
     "name": "stdout",
     "output_type": "stream",
     "text": [
      "Collecting catboost\n",
      "\u001b[?25l  Downloading https://files.pythonhosted.org/packages/52/39/128fff65072c8327371e3c594f3c826d29c85b21cb6485980353b168e0e4/catboost-0.24.2-cp36-none-manylinux1_x86_64.whl (66.1MB)\n",
      "\u001b[K     |████████████████████████████████| 66.2MB 59kB/s \n",
      "\u001b[?25hRequirement already satisfied: graphviz in /usr/local/lib/python3.6/dist-packages (from catboost) (0.10.1)\n",
      "Requirement already satisfied: scipy in /usr/local/lib/python3.6/dist-packages (from catboost) (1.4.1)\n",
      "Requirement already satisfied: six in /usr/local/lib/python3.6/dist-packages (from catboost) (1.15.0)\n",
      "Requirement already satisfied: matplotlib in /usr/local/lib/python3.6/dist-packages (from catboost) (3.2.2)\n",
      "Requirement already satisfied: plotly in /usr/local/lib/python3.6/dist-packages (from catboost) (4.4.1)\n",
      "Requirement already satisfied: numpy>=1.16.0 in /usr/local/lib/python3.6/dist-packages (from catboost) (1.18.5)\n",
      "Requirement already satisfied: pandas>=0.24.0 in /usr/local/lib/python3.6/dist-packages (from catboost) (1.1.2)\n",
      "Requirement already satisfied: cycler>=0.10 in /usr/local/lib/python3.6/dist-packages (from matplotlib->catboost) (0.10.0)\n",
      "Requirement already satisfied: python-dateutil>=2.1 in /usr/local/lib/python3.6/dist-packages (from matplotlib->catboost) (2.8.1)\n",
      "Requirement already satisfied: kiwisolver>=1.0.1 in /usr/local/lib/python3.6/dist-packages (from matplotlib->catboost) (1.2.0)\n",
      "Requirement already satisfied: pyparsing!=2.0.4,!=2.1.2,!=2.1.6,>=2.0.1 in /usr/local/lib/python3.6/dist-packages (from matplotlib->catboost) (2.4.7)\n",
      "Requirement already satisfied: retrying>=1.3.3 in /usr/local/lib/python3.6/dist-packages (from plotly->catboost) (1.3.3)\n",
      "Requirement already satisfied: pytz>=2017.2 in /usr/local/lib/python3.6/dist-packages (from pandas>=0.24.0->catboost) (2018.9)\n",
      "Installing collected packages: catboost\n",
      "Successfully installed catboost-0.24.2\n",
      "Requirement already satisfied: lightgbm in /usr/local/lib/python3.6/dist-packages (2.2.3)\n",
      "Requirement already satisfied: numpy in /usr/local/lib/python3.6/dist-packages (from lightgbm) (1.18.5)\n",
      "Requirement already satisfied: scipy in /usr/local/lib/python3.6/dist-packages (from lightgbm) (1.4.1)\n",
      "Requirement already satisfied: scikit-learn in /usr/local/lib/python3.6/dist-packages (from lightgbm) (0.22.2.post1)\n",
      "Requirement already satisfied: joblib>=0.11 in /usr/local/lib/python3.6/dist-packages (from scikit-learn->lightgbm) (0.16.0)\n"
     ]
    }
   ],
   "source": [
    "! pip install catboost\n",
    "! pip install lightgbm"
   ]
  },
  {
   "cell_type": "code",
   "execution_count": 23,
   "metadata": {
    "executionInfo": {
     "elapsed": 23316,
     "status": "ok",
     "timestamp": 1603694673411,
     "user": {
      "displayName": "SAHIL MANKAD",
      "photoUrl": "",
      "userId": "01524592176474520459"
     },
     "user_tz": -330
    },
    "id": "CE5kSO9CH6SV"
   },
   "outputs": [],
   "source": [
    "from catboost import CatBoostClassifier\n",
    "import pickle \n",
    "from lightgbm import LGBMClassifier\n",
    "from sklearn.ensemble import VotingClassifier"
   ]
  },
  {
   "cell_type": "code",
   "execution_count": 24,
   "metadata": {
    "executionInfo": {
     "elapsed": 25143,
     "status": "ok",
     "timestamp": 1603694675245,
     "user": {
      "displayName": "SAHIL MANKAD",
      "photoUrl": "",
      "userId": "01524592176474520459"
     },
     "user_tz": -330
    },
    "id": "tBlxNs7dgU5i"
   },
   "outputs": [],
   "source": [
    "filename = 'catboost_best_params.sav'\n",
    "catboost_params = pickle.load(open(filename, 'rb'))\n",
    "\n",
    "filename = 'lgbm_best_params.sav'\n",
    "lgbm_params = pickle.load(open(filename, 'rb'))\n",
    "\n",
    "filename = 'columns_selected'\n",
    "columns = pickle.load(open(filename, 'rb'))"
   ]
  },
  {
   "cell_type": "markdown",
   "metadata": {
    "id": "lbfGPKGLvg6b"
   },
   "source": [
    "# Applying the models to test dataset"
   ]
  },
  {
   "cell_type": "code",
   "execution_count": 25,
   "metadata": {
    "executionInfo": {
     "elapsed": 25153,
     "status": "ok",
     "timestamp": 1603694675262,
     "user": {
      "displayName": "SAHIL MANKAD",
      "photoUrl": "",
      "userId": "01524592176474520459"
     },
     "user_tz": -330
    },
    "id": "ACxZz90zml6b"
   },
   "outputs": [],
   "source": [
    "def get_final_output(clf,test,optimal_thresh,string):\n",
    "  is_promoted = (clf.predict_proba(test)[:, 1] > optimal_thresh) * 1\n",
    "  print(np.unique(is_promoted, return_counts=True)) \n",
    "  data = pd.read_csv(\"test.csv\")\n",
    "  data['is_promoted'] = pd.Series(is_promoted)\n",
    "  output = data[['employee_id','is_promoted']]\n",
    "  print(output['is_promoted'].value_counts(normalize=True) * 100)\n",
    "  output.to_csv(string+'_final_submission.csv',index=False)"
   ]
  },
  {
   "cell_type": "code",
   "execution_count": 26,
   "metadata": {
    "colab": {
     "base_uri": "https://localhost:8080/",
     "height": 34
    },
    "executionInfo": {
     "elapsed": 25058,
     "status": "ok",
     "timestamp": 1603694675269,
     "user": {
      "displayName": "SAHIL MANKAD",
      "photoUrl": "",
      "userId": "01524592176474520459"
     },
     "user_tz": -330
    },
    "id": "a1AUh18dQgqY",
    "outputId": "91bbe6b7-4ede-4f33-ceef-6806583c8ae4"
   },
   "outputs": [
    {
     "name": "stdout",
     "output_type": "stream",
     "text": [
      "(23490, 36)\n"
     ]
    }
   ],
   "source": [
    "test_array = np.array(test[columns])\n",
    "print(test_array.shape)"
   ]
  },
  {
   "cell_type": "code",
   "execution_count": 27,
   "metadata": {
    "executionInfo": {
     "elapsed": 27007,
     "status": "ok",
     "timestamp": 1603694677236,
     "user": {
      "displayName": "SAHIL MANKAD",
      "photoUrl": "",
      "userId": "01524592176474520459"
     },
     "user_tz": -330
    },
    "id": "rRu78Y6rRLL7"
   },
   "outputs": [],
   "source": [
    "#fit model on training data pickled in numpy format and use it for making new predictions\n",
    "filename = 'X_train.sav' \n",
    "X_train = pickle.load(open(filename, 'rb'))\n",
    "filename = 'y_train.sav'\n",
    "y_train = pickle.load(open(filename, 'rb'))"
   ]
  },
  {
   "cell_type": "code",
   "execution_count": 28,
   "metadata": {
    "colab": {
     "base_uri": "https://localhost:8080/",
     "height": 85
    },
    "executionInfo": {
     "elapsed": 42786,
     "status": "ok",
     "timestamp": 1603694693046,
     "user": {
      "displayName": "SAHIL MANKAD",
      "photoUrl": "",
      "userId": "01524592176474520459"
     },
     "user_tz": -330
    },
    "id": "VPcedKiUvlVN",
    "outputId": "fd2291f6-fdbd-45e2-a888-df9154feede7"
   },
   "outputs": [
    {
     "name": "stdout",
     "output_type": "stream",
     "text": [
      "(array([0, 1]), array([21898,  1592]))\n",
      "0    93.222648\n",
      "1     6.777352\n",
      "Name: is_promoted, dtype: float64\n"
     ]
    }
   ],
   "source": [
    "clf1 = CatBoostClassifier(verbose=0,**catboost_params)\n",
    "clf1.fit(X_train,y_train)\n",
    "get_final_output(clf1,test_array,0.25,'catboost')"
   ]
  },
  {
   "cell_type": "code",
   "execution_count": 29,
   "metadata": {
    "colab": {
     "base_uri": "https://localhost:8080/",
     "height": 85
    },
    "executionInfo": {
     "elapsed": 48296,
     "status": "ok",
     "timestamp": 1603694698584,
     "user": {
      "displayName": "SAHIL MANKAD",
      "photoUrl": "",
      "userId": "01524592176474520459"
     },
     "user_tz": -330
    },
    "id": "X64S5415-_Em",
    "outputId": "d145af65-0117-47c3-95ec-9a41bfd3ea23"
   },
   "outputs": [
    {
     "name": "stdout",
     "output_type": "stream",
     "text": [
      "(array([0, 1]), array([22407,  1083]))\n",
      "0    95.389527\n",
      "1     4.610473\n",
      "Name: is_promoted, dtype: float64\n"
     ]
    }
   ],
   "source": [
    "clf2 = LGBMClassifier(class_weight='balanced',**lgbm_params)\n",
    "clf2.fit(X_train,y_train)\n",
    "get_final_output(clf2,test_array,0.9,'lgb')"
   ]
  },
  {
   "cell_type": "code",
   "execution_count": 30,
   "metadata": {
    "executionInfo": {
     "elapsed": 48292,
     "status": "ok",
     "timestamp": 1603694698587,
     "user": {
      "displayName": "SAHIL MANKAD",
      "photoUrl": "",
      "userId": "01524592176474520459"
     },
     "user_tz": -330
    },
    "id": "Ax4g7UpfyoId"
   },
   "outputs": [],
   "source": [
    "from sklearn.ensemble import StackingClassifier"
   ]
  },
  {
   "cell_type": "code",
   "execution_count": 31,
   "metadata": {
    "colab": {
     "base_uri": "https://localhost:8080/",
     "height": 85
    },
    "executionInfo": {
     "elapsed": 140474,
     "status": "ok",
     "timestamp": 1603694790842,
     "user": {
      "displayName": "SAHIL MANKAD",
      "photoUrl": "",
      "userId": "01524592176474520459"
     },
     "user_tz": -330
    },
    "id": "GDDzaSntRZQm",
    "outputId": "0646631d-3faf-40c9-fde0-0622cab298b6"
   },
   "outputs": [
    {
     "name": "stdout",
     "output_type": "stream",
     "text": [
      "(array([0, 1]), array([22719,   771]))\n",
      "0    96.717752\n",
      "1     3.282248\n",
      "Name: is_promoted, dtype: float64\n"
     ]
    }
   ],
   "source": [
    "estimators = [('lgbm', clf1),('catboost', clf2)]\n",
    "clf = StackingClassifier(estimators=estimators, final_estimator = LGBMClassifier())\n",
    "clf.fit(X_train,y_train)\n",
    "get_final_output(clf,test_array,0.4,'stacked')"
   ]
  },
  {
   "cell_type": "code",
   "execution_count": 32,
   "metadata": {
    "colab": {
     "base_uri": "https://localhost:8080/",
     "height": 85
    },
    "executionInfo": {
     "elapsed": 157870,
     "status": "ok",
     "timestamp": 1603694808243,
     "user": {
      "displayName": "SAHIL MANKAD",
      "photoUrl": "",
      "userId": "01524592176474520459"
     },
     "user_tz": -330
    },
    "id": "-SGTuoHZywQU",
    "outputId": "3c295bbc-5f45-4c02-fdfc-69718f7e9408"
   },
   "outputs": [
    {
     "name": "stdout",
     "output_type": "stream",
     "text": [
      "(array([0, 1]), array([22579,   911]))\n",
      "0    96.121754\n",
      "1     3.878246\n",
      "Name: is_promoted, dtype: float64\n"
     ]
    }
   ],
   "source": [
    "clf = clf = VotingClassifier(estimators=[('lgb', clf1), ('cb', clf2)],voting='soft', weights=[0.8,0.2],flatten_transform=True)\n",
    "clf.fit(X_train,y_train)\n",
    "get_final_output(clf,test_array,0.4,'averaged')"
   ]
  }
 ],
 "metadata": {
  "colab": {
   "authorship_tag": "ABX9TyMTcYIFw5M/HO25nloVX9Eg",
   "collapsed_sections": [
    "reA7PV3gqvMM",
    "D8IMsQG2wP__",
    "nmTYDYTt_oJU"
   ],
   "name": "HR Analytics - Final Prediction.ipynb",
   "provenance": []
  },
  "kernelspec": {
   "display_name": "Python 3",
   "language": "python",
   "name": "python3"
  },
  "language_info": {
   "codemirror_mode": {
    "name": "ipython",
    "version": 3
   },
   "file_extension": ".py",
   "mimetype": "text/x-python",
   "name": "python",
   "nbconvert_exporter": "python",
   "pygments_lexer": "ipython3",
   "version": "3.7.3"
  }
 },
 "nbformat": 4,
 "nbformat_minor": 1
}
